{
 "cells": [
  {
   "cell_type": "code",
   "execution_count": 123,
   "metadata": {
    "_cell_guid": "b1076dfc-b9ad-4769-8c92-a6c4dae69d19",
    "_uuid": "8f2839f25d086af736a60e9eeb907d3b93b6e0e5",
    "colab": {},
    "colab_type": "code",
    "id": "U2D2gTdJVp90"
   },
   "outputs": [],
   "source": [
    "import numpy as np\n",
    "import pandas as pd\n",
    "import seaborn as sns\n",
    "import matplotlib.pyplot as plt\n",
    "from collections import Counter\n",
    "import itertools"
   ]
  },
  {
   "cell_type": "code",
   "execution_count": 117,
   "metadata": {
    "_cell_guid": "79c7e3d0-c299-4dcb-8224-4455121ee9b0",
    "_uuid": "d629ff2d2480ee46fbb7e2d37f6b5fab8052498a",
    "colab": {},
    "colab_type": "code",
    "id": "oyGfxL3eVp9-"
   },
   "outputs": [
    {
     "data": {
      "text/html": [
       "<div>\n",
       "<style scoped>\n",
       "    .dataframe tbody tr th:only-of-type {\n",
       "        vertical-align: middle;\n",
       "    }\n",
       "\n",
       "    .dataframe tbody tr th {\n",
       "        vertical-align: top;\n",
       "    }\n",
       "\n",
       "    .dataframe thead th {\n",
       "        text-align: right;\n",
       "    }\n",
       "</style>\n",
       "<table border=\"1\" class=\"dataframe\">\n",
       "  <thead>\n",
       "    <tr style=\"text-align: right;\">\n",
       "      <th></th>\n",
       "      <th>imdb_id</th>\n",
       "      <th>budget</th>\n",
       "      <th>revenue</th>\n",
       "      <th>original_title</th>\n",
       "      <th>cast</th>\n",
       "      <th>director</th>\n",
       "      <th>tagline</th>\n",
       "      <th>overview</th>\n",
       "      <th>runtime</th>\n",
       "      <th>genres</th>\n",
       "      <th>production_companies</th>\n",
       "      <th>release_date</th>\n",
       "      <th>vote_average</th>\n",
       "      <th>release_year</th>\n",
       "    </tr>\n",
       "  </thead>\n",
       "  <tbody>\n",
       "    <tr>\n",
       "      <th>1239</th>\n",
       "      <td>tt3063516</td>\n",
       "      <td>15000000</td>\n",
       "      <td>151831537</td>\n",
       "      <td>Jackass Presents: Bad Grandpa</td>\n",
       "      <td>Johnny Knoxville|Jackson Nicoll|Georgina Cates...</td>\n",
       "      <td>Jeff Tremaine</td>\n",
       "      <td>Real people. Real reactions. Real messed up.</td>\n",
       "      <td>86-year-old Irving Zisman is on a journey acro...</td>\n",
       "      <td>92</td>\n",
       "      <td>Comedy</td>\n",
       "      <td>Paramount Pictures|MTV Films|Dickhouse Product...</td>\n",
       "      <td>10/22/2013</td>\n",
       "      <td>6.1</td>\n",
       "      <td>2013</td>\n",
       "    </tr>\n",
       "    <tr>\n",
       "      <th>1214</th>\n",
       "      <td>tt0790736</td>\n",
       "      <td>130000000</td>\n",
       "      <td>61648500</td>\n",
       "      <td>R.I.P.D.</td>\n",
       "      <td>Jeff Bridges|Ryan Reynolds|Kevin Bacon|Stephan...</td>\n",
       "      <td>Robert Schwentke</td>\n",
       "      <td>To protect and serve the living</td>\n",
       "      <td>A recently slain cop joins a team of undead po...</td>\n",
       "      <td>96</td>\n",
       "      <td>Fantasy|Action|Comedy|Crime</td>\n",
       "      <td>Universal Pictures|Original Film|Dark Horse En...</td>\n",
       "      <td>7/18/2013</td>\n",
       "      <td>5.3</td>\n",
       "      <td>2013</td>\n",
       "    </tr>\n",
       "    <tr>\n",
       "      <th>741</th>\n",
       "      <td>tt1216475</td>\n",
       "      <td>200000000</td>\n",
       "      <td>559852396</td>\n",
       "      <td>Cars 2</td>\n",
       "      <td>Larry the Cable Guy|Owen Wilson|Michael Caine|...</td>\n",
       "      <td>John Lasseter|Brad Lewis</td>\n",
       "      <td>Ka-ciao!</td>\n",
       "      <td>Star race car Lightning McQueen and his pal Ma...</td>\n",
       "      <td>106</td>\n",
       "      <td>Animation|Family|Adventure|Comedy</td>\n",
       "      <td>Walt Disney Pictures|Pixar Animation Studios</td>\n",
       "      <td>6/11/2011</td>\n",
       "      <td>5.8</td>\n",
       "      <td>2011</td>\n",
       "    </tr>\n",
       "    <tr>\n",
       "      <th>1171</th>\n",
       "      <td>tt0338466</td>\n",
       "      <td>55000000</td>\n",
       "      <td>33828318</td>\n",
       "      <td>Stuck on You</td>\n",
       "      <td>Matt Damon|Greg Kinnear|Eva Mendes|Wen Yann Sh...</td>\n",
       "      <td>Bobby Farrelly|Peter Farrelly</td>\n",
       "      <td>Whatever happens to the boys, one thing is cer...</td>\n",
       "      <td>In Martha's Vineyard, Mass., conjoined twins W...</td>\n",
       "      <td>118</td>\n",
       "      <td>Comedy</td>\n",
       "      <td>Twentieth Century Fox Film Corporation|Conundr...</td>\n",
       "      <td>12/10/2003</td>\n",
       "      <td>4.8</td>\n",
       "      <td>2003</td>\n",
       "    </tr>\n",
       "    <tr>\n",
       "      <th>1497</th>\n",
       "      <td>tt0457510</td>\n",
       "      <td>32000000</td>\n",
       "      <td>80197993</td>\n",
       "      <td>Nacho Libre</td>\n",
       "      <td>Jack Black|Ana de la Reguera|HÃ©ctor JimÃ©nez|...</td>\n",
       "      <td>Jared Hess</td>\n",
       "      <td>He's not lean. He's not mean. He's nacho avera...</td>\n",
       "      <td>Nacho Libre is loosely based on the story of F...</td>\n",
       "      <td>92</td>\n",
       "      <td>Comedy|Family</td>\n",
       "      <td>Paramount Pictures|Nickelodeon Movies|Black &amp; ...</td>\n",
       "      <td>6/16/2006</td>\n",
       "      <td>5.5</td>\n",
       "      <td>2006</td>\n",
       "    </tr>\n",
       "  </tbody>\n",
       "</table>\n",
       "</div>"
      ],
      "text/plain": [
       "        imdb_id     budget    revenue                 original_title  \\\n",
       "1239  tt3063516   15000000  151831537  Jackass Presents: Bad Grandpa   \n",
       "1214  tt0790736  130000000   61648500                       R.I.P.D.   \n",
       "741   tt1216475  200000000  559852396                         Cars 2   \n",
       "1171  tt0338466   55000000   33828318                   Stuck on You   \n",
       "1497  tt0457510   32000000   80197993                    Nacho Libre   \n",
       "\n",
       "                                                   cast  \\\n",
       "1239  Johnny Knoxville|Jackson Nicoll|Georgina Cates...   \n",
       "1214  Jeff Bridges|Ryan Reynolds|Kevin Bacon|Stephan...   \n",
       "741   Larry the Cable Guy|Owen Wilson|Michael Caine|...   \n",
       "1171  Matt Damon|Greg Kinnear|Eva Mendes|Wen Yann Sh...   \n",
       "1497  Jack Black|Ana de la Reguera|HÃ©ctor JimÃ©nez|...   \n",
       "\n",
       "                           director  \\\n",
       "1239                  Jeff Tremaine   \n",
       "1214               Robert Schwentke   \n",
       "741        John Lasseter|Brad Lewis   \n",
       "1171  Bobby Farrelly|Peter Farrelly   \n",
       "1497                     Jared Hess   \n",
       "\n",
       "                                                tagline  \\\n",
       "1239       Real people. Real reactions. Real messed up.   \n",
       "1214                    To protect and serve the living   \n",
       "741                                            Ka-ciao!   \n",
       "1171  Whatever happens to the boys, one thing is cer...   \n",
       "1497  He's not lean. He's not mean. He's nacho avera...   \n",
       "\n",
       "                                               overview  runtime  \\\n",
       "1239  86-year-old Irving Zisman is on a journey acro...       92   \n",
       "1214  A recently slain cop joins a team of undead po...       96   \n",
       "741   Star race car Lightning McQueen and his pal Ma...      106   \n",
       "1171  In Martha's Vineyard, Mass., conjoined twins W...      118   \n",
       "1497  Nacho Libre is loosely based on the story of F...       92   \n",
       "\n",
       "                                 genres  \\\n",
       "1239                             Comedy   \n",
       "1214        Fantasy|Action|Comedy|Crime   \n",
       "741   Animation|Family|Adventure|Comedy   \n",
       "1171                             Comedy   \n",
       "1497                      Comedy|Family   \n",
       "\n",
       "                                   production_companies release_date  \\\n",
       "1239  Paramount Pictures|MTV Films|Dickhouse Product...   10/22/2013   \n",
       "1214  Universal Pictures|Original Film|Dark Horse En...    7/18/2013   \n",
       "741        Walt Disney Pictures|Pixar Animation Studios    6/11/2011   \n",
       "1171  Twentieth Century Fox Film Corporation|Conundr...   12/10/2003   \n",
       "1497  Paramount Pictures|Nickelodeon Movies|Black & ...    6/16/2006   \n",
       "\n",
       "      vote_average  release_year  \n",
       "1239           6.1          2013  \n",
       "1214           5.3          2013  \n",
       "741            5.8          2011  \n",
       "1171           4.8          2003  \n",
       "1497           5.5          2006  "
      ]
     },
     "execution_count": 117,
     "metadata": {},
     "output_type": "execute_result"
    }
   ],
   "source": [
    "data = pd.read_csv('movie_bd_v5.csv')\n",
    "data.sample(5)"
   ]
  },
  {
   "cell_type": "code",
   "execution_count": 54,
   "metadata": {
    "colab": {},
    "colab_type": "code",
    "id": "CoYUnagMVp-C"
   },
   "outputs": [
    {
     "data": {
      "text/html": [
       "<div>\n",
       "<style scoped>\n",
       "    .dataframe tbody tr th:only-of-type {\n",
       "        vertical-align: middle;\n",
       "    }\n",
       "\n",
       "    .dataframe tbody tr th {\n",
       "        vertical-align: top;\n",
       "    }\n",
       "\n",
       "    .dataframe thead th {\n",
       "        text-align: right;\n",
       "    }\n",
       "</style>\n",
       "<table border=\"1\" class=\"dataframe\">\n",
       "  <thead>\n",
       "    <tr style=\"text-align: right;\">\n",
       "      <th></th>\n",
       "      <th>budget</th>\n",
       "      <th>revenue</th>\n",
       "      <th>runtime</th>\n",
       "      <th>vote_average</th>\n",
       "      <th>release_year</th>\n",
       "    </tr>\n",
       "  </thead>\n",
       "  <tbody>\n",
       "    <tr>\n",
       "      <th>count</th>\n",
       "      <td>1.889000e+03</td>\n",
       "      <td>1.889000e+03</td>\n",
       "      <td>1889.000000</td>\n",
       "      <td>1889.000000</td>\n",
       "      <td>1889.000000</td>\n",
       "    </tr>\n",
       "    <tr>\n",
       "      <th>mean</th>\n",
       "      <td>5.431083e+07</td>\n",
       "      <td>1.553653e+08</td>\n",
       "      <td>109.658549</td>\n",
       "      <td>6.140762</td>\n",
       "      <td>2007.860773</td>\n",
       "    </tr>\n",
       "    <tr>\n",
       "      <th>std</th>\n",
       "      <td>4.858721e+07</td>\n",
       "      <td>2.146698e+08</td>\n",
       "      <td>18.017041</td>\n",
       "      <td>0.764763</td>\n",
       "      <td>4.468841</td>\n",
       "    </tr>\n",
       "    <tr>\n",
       "      <th>min</th>\n",
       "      <td>5.000000e+06</td>\n",
       "      <td>2.033165e+06</td>\n",
       "      <td>63.000000</td>\n",
       "      <td>3.300000</td>\n",
       "      <td>2000.000000</td>\n",
       "    </tr>\n",
       "    <tr>\n",
       "      <th>25%</th>\n",
       "      <td>2.000000e+07</td>\n",
       "      <td>3.456058e+07</td>\n",
       "      <td>97.000000</td>\n",
       "      <td>5.600000</td>\n",
       "      <td>2004.000000</td>\n",
       "    </tr>\n",
       "    <tr>\n",
       "      <th>50%</th>\n",
       "      <td>3.800000e+07</td>\n",
       "      <td>8.361541e+07</td>\n",
       "      <td>107.000000</td>\n",
       "      <td>6.100000</td>\n",
       "      <td>2008.000000</td>\n",
       "    </tr>\n",
       "    <tr>\n",
       "      <th>75%</th>\n",
       "      <td>7.200000e+07</td>\n",
       "      <td>1.782626e+08</td>\n",
       "      <td>120.000000</td>\n",
       "      <td>6.600000</td>\n",
       "      <td>2012.000000</td>\n",
       "    </tr>\n",
       "    <tr>\n",
       "      <th>max</th>\n",
       "      <td>3.800000e+08</td>\n",
       "      <td>2.781506e+09</td>\n",
       "      <td>214.000000</td>\n",
       "      <td>8.100000</td>\n",
       "      <td>2015.000000</td>\n",
       "    </tr>\n",
       "  </tbody>\n",
       "</table>\n",
       "</div>"
      ],
      "text/plain": [
       "             budget       revenue      runtime  vote_average  release_year\n",
       "count  1.889000e+03  1.889000e+03  1889.000000   1889.000000   1889.000000\n",
       "mean   5.431083e+07  1.553653e+08   109.658549      6.140762   2007.860773\n",
       "std    4.858721e+07  2.146698e+08    18.017041      0.764763      4.468841\n",
       "min    5.000000e+06  2.033165e+06    63.000000      3.300000   2000.000000\n",
       "25%    2.000000e+07  3.456058e+07    97.000000      5.600000   2004.000000\n",
       "50%    3.800000e+07  8.361541e+07   107.000000      6.100000   2008.000000\n",
       "75%    7.200000e+07  1.782626e+08   120.000000      6.600000   2012.000000\n",
       "max    3.800000e+08  2.781506e+09   214.000000      8.100000   2015.000000"
      ]
     },
     "execution_count": 54,
     "metadata": {},
     "output_type": "execute_result"
    }
   ],
   "source": [
    "data.describe()"
   ]
  },
  {
   "cell_type": "code",
   "execution_count": 59,
   "metadata": {},
   "outputs": [
    {
     "name": "stdout",
     "output_type": "stream",
     "text": [
      "<class 'pandas.core.frame.DataFrame'>\n",
      "RangeIndex: 1889 entries, 0 to 1888\n",
      "Data columns (total 15 columns):\n",
      " #   Column                Non-Null Count  Dtype         \n",
      "---  ------                --------------  -----         \n",
      " 0   imdb_id               1889 non-null   object        \n",
      " 1   budget                1889 non-null   int64         \n",
      " 2   revenue               1889 non-null   int64         \n",
      " 3   original_title        1889 non-null   object        \n",
      " 4   cast                  1889 non-null   object        \n",
      " 5   director              1889 non-null   object        \n",
      " 6   tagline               1889 non-null   object        \n",
      " 7   overview              1889 non-null   object        \n",
      " 8   runtime               1889 non-null   int64         \n",
      " 9   genres                1889 non-null   object        \n",
      " 10  production_companies  1889 non-null   object        \n",
      " 11  release_date          1889 non-null   datetime64[ns]\n",
      " 12  vote_average          1889 non-null   float64       \n",
      " 13  release_year          1889 non-null   int64         \n",
      " 14  profit                1889 non-null   int64         \n",
      "dtypes: datetime64[ns](1), float64(1), int64(5), object(8)\n",
      "memory usage: 221.5+ KB\n"
     ]
    }
   ],
   "source": [
    "data.info()"
   ]
  },
  {
   "cell_type": "markdown",
   "metadata": {
    "colab_type": "text",
    "id": "DTIt7ezGVp-G"
   },
   "source": [
    "# Предобработка"
   ]
  },
  {
   "cell_type": "code",
   "execution_count": 210,
   "metadata": {
    "colab": {},
    "colab_type": "code",
    "id": "jNb40DwKVp-H"
   },
   "outputs": [
    {
     "data": {
      "text/html": [
       "<div>\n",
       "<style scoped>\n",
       "    .dataframe tbody tr th:only-of-type {\n",
       "        vertical-align: middle;\n",
       "    }\n",
       "\n",
       "    .dataframe tbody tr th {\n",
       "        vertical-align: top;\n",
       "    }\n",
       "\n",
       "    .dataframe thead th {\n",
       "        text-align: right;\n",
       "    }\n",
       "</style>\n",
       "<table border=\"1\" class=\"dataframe\">\n",
       "  <thead>\n",
       "    <tr style=\"text-align: right;\">\n",
       "      <th></th>\n",
       "      <th>imdb_id</th>\n",
       "      <th>budget</th>\n",
       "      <th>revenue</th>\n",
       "      <th>original_title</th>\n",
       "      <th>cast</th>\n",
       "      <th>director</th>\n",
       "      <th>tagline</th>\n",
       "      <th>overview</th>\n",
       "      <th>runtime</th>\n",
       "      <th>genres</th>\n",
       "      <th>production_companies</th>\n",
       "      <th>release_date</th>\n",
       "      <th>vote_average</th>\n",
       "      <th>release_year</th>\n",
       "      <th>profit</th>\n",
       "      <th>genres_array</th>\n",
       "      <th>director_array</th>\n",
       "      <th>cast_array</th>\n",
       "    </tr>\n",
       "  </thead>\n",
       "  <tbody>\n",
       "    <tr>\n",
       "      <th>1209</th>\n",
       "      <td>tt1335975</td>\n",
       "      <td>175000000</td>\n",
       "      <td>150962475</td>\n",
       "      <td>47 Ronin</td>\n",
       "      <td>Keanu Reeves|Hiroyuki Sanada|Kou Shibasaki|Tad...</td>\n",
       "      <td>Carl Rinsch</td>\n",
       "      <td>For courage. For loyalty. For honour.</td>\n",
       "      <td>Based on the original 1941 movie from Japan, a...</td>\n",
       "      <td>118</td>\n",
       "      <td>Action|Adventure|Fantasy</td>\n",
       "      <td>Mid Atlantic Films|Stuber Productions|Universa...</td>\n",
       "      <td>2013-12-06</td>\n",
       "      <td>5.8</td>\n",
       "      <td>2013</td>\n",
       "      <td>-24037525</td>\n",
       "      <td>[Action, Adventure, Fantasy]</td>\n",
       "      <td>[Carl Rinsch]</td>\n",
       "      <td>[Keanu Reeves, Hiroyuki Sanada, Kou Shibasaki,...</td>\n",
       "    </tr>\n",
       "    <tr>\n",
       "      <th>61</th>\n",
       "      <td>tt3152624</td>\n",
       "      <td>35000000</td>\n",
       "      <td>140795793</td>\n",
       "      <td>Trainwreck</td>\n",
       "      <td>Amy Schumer|Bill Hader|Brie Larson|Colin Quinn...</td>\n",
       "      <td>Judd Apatow</td>\n",
       "      <td>We All Know One.</td>\n",
       "      <td>Having thought that monogamy was never possibl...</td>\n",
       "      <td>125</td>\n",
       "      <td>Comedy</td>\n",
       "      <td>Universal Pictures|Fuji Television Network|Den...</td>\n",
       "      <td>2015-07-17</td>\n",
       "      <td>6.1</td>\n",
       "      <td>2015</td>\n",
       "      <td>105795793</td>\n",
       "      <td>[Comedy]</td>\n",
       "      <td>[Judd Apatow]</td>\n",
       "      <td>[Amy Schumer, Bill Hader, Brie Larson, Colin Q...</td>\n",
       "    </tr>\n",
       "    <tr>\n",
       "      <th>662</th>\n",
       "      <td>tt0421073</td>\n",
       "      <td>20000000</td>\n",
       "      <td>65569869</td>\n",
       "      <td>Street Kings</td>\n",
       "      <td>Keanu Reeves|Forest Whitaker|Chris Evans|Hugh ...</td>\n",
       "      <td>David Ayer</td>\n",
       "      <td>Their city. Their rules. No prisoners.</td>\n",
       "      <td>Tom Ludlow is a disillusioned L.A. Police Offi...</td>\n",
       "      <td>109</td>\n",
       "      <td>Action|Crime|Drama|Thriller</td>\n",
       "      <td>Fox Searchlight Pictures|Regency Enterprises|D...</td>\n",
       "      <td>2008-04-10</td>\n",
       "      <td>6.2</td>\n",
       "      <td>2008</td>\n",
       "      <td>45569869</td>\n",
       "      <td>[Action, Crime, Drama, Thriller]</td>\n",
       "      <td>[David Ayer]</td>\n",
       "      <td>[Keanu Reeves, Forest Whitaker, Chris Evans, H...</td>\n",
       "    </tr>\n",
       "    <tr>\n",
       "      <th>741</th>\n",
       "      <td>tt1216475</td>\n",
       "      <td>200000000</td>\n",
       "      <td>559852396</td>\n",
       "      <td>Cars 2</td>\n",
       "      <td>Larry the Cable Guy|Owen Wilson|Michael Caine|...</td>\n",
       "      <td>John Lasseter|Brad Lewis</td>\n",
       "      <td>Ka-ciao!</td>\n",
       "      <td>Star race car Lightning McQueen and his pal Ma...</td>\n",
       "      <td>106</td>\n",
       "      <td>Animation|Family|Adventure|Comedy</td>\n",
       "      <td>Walt Disney Pictures|Pixar Animation Studios</td>\n",
       "      <td>2011-06-11</td>\n",
       "      <td>5.8</td>\n",
       "      <td>2011</td>\n",
       "      <td>359852396</td>\n",
       "      <td>[Animation, Family, Adventure, Comedy]</td>\n",
       "      <td>[John Lasseter, Brad Lewis]</td>\n",
       "      <td>[Larry the Cable Guy, Owen Wilson, Michael Cai...</td>\n",
       "    </tr>\n",
       "    <tr>\n",
       "      <th>1799</th>\n",
       "      <td>tt0172495</td>\n",
       "      <td>103000000</td>\n",
       "      <td>457640427</td>\n",
       "      <td>Gladiator</td>\n",
       "      <td>Russell Crowe|Joaquin Phoenix|Connie Nielsen|O...</td>\n",
       "      <td>Ridley Scott</td>\n",
       "      <td>A Hero Will Rise.</td>\n",
       "      <td>General Maximus' success in battle earns the f...</td>\n",
       "      <td>155</td>\n",
       "      <td>Action|Drama|Adventure</td>\n",
       "      <td>DreamWorks SKG|Universal Pictures|Scott Free P...</td>\n",
       "      <td>2000-05-01</td>\n",
       "      <td>7.7</td>\n",
       "      <td>2000</td>\n",
       "      <td>354640427</td>\n",
       "      <td>[Action, Drama, Adventure]</td>\n",
       "      <td>[Ridley Scott]</td>\n",
       "      <td>[Russell Crowe, Joaquin Phoenix, Connie Nielse...</td>\n",
       "    </tr>\n",
       "  </tbody>\n",
       "</table>\n",
       "</div>"
      ],
      "text/plain": [
       "        imdb_id     budget    revenue original_title  \\\n",
       "1209  tt1335975  175000000  150962475       47 Ronin   \n",
       "61    tt3152624   35000000  140795793     Trainwreck   \n",
       "662   tt0421073   20000000   65569869   Street Kings   \n",
       "741   tt1216475  200000000  559852396         Cars 2   \n",
       "1799  tt0172495  103000000  457640427      Gladiator   \n",
       "\n",
       "                                                   cast  \\\n",
       "1209  Keanu Reeves|Hiroyuki Sanada|Kou Shibasaki|Tad...   \n",
       "61    Amy Schumer|Bill Hader|Brie Larson|Colin Quinn...   \n",
       "662   Keanu Reeves|Forest Whitaker|Chris Evans|Hugh ...   \n",
       "741   Larry the Cable Guy|Owen Wilson|Michael Caine|...   \n",
       "1799  Russell Crowe|Joaquin Phoenix|Connie Nielsen|O...   \n",
       "\n",
       "                      director                                 tagline  \\\n",
       "1209               Carl Rinsch   For courage. For loyalty. For honour.   \n",
       "61                 Judd Apatow                        We All Know One.   \n",
       "662                 David Ayer  Their city. Their rules. No prisoners.   \n",
       "741   John Lasseter|Brad Lewis                                Ka-ciao!   \n",
       "1799              Ridley Scott                       A Hero Will Rise.   \n",
       "\n",
       "                                               overview  runtime  \\\n",
       "1209  Based on the original 1941 movie from Japan, a...      118   \n",
       "61    Having thought that monogamy was never possibl...      125   \n",
       "662   Tom Ludlow is a disillusioned L.A. Police Offi...      109   \n",
       "741   Star race car Lightning McQueen and his pal Ma...      106   \n",
       "1799  General Maximus' success in battle earns the f...      155   \n",
       "\n",
       "                                 genres  \\\n",
       "1209           Action|Adventure|Fantasy   \n",
       "61                               Comedy   \n",
       "662         Action|Crime|Drama|Thriller   \n",
       "741   Animation|Family|Adventure|Comedy   \n",
       "1799             Action|Drama|Adventure   \n",
       "\n",
       "                                   production_companies release_date  \\\n",
       "1209  Mid Atlantic Films|Stuber Productions|Universa...   2013-12-06   \n",
       "61    Universal Pictures|Fuji Television Network|Den...   2015-07-17   \n",
       "662   Fox Searchlight Pictures|Regency Enterprises|D...   2008-04-10   \n",
       "741        Walt Disney Pictures|Pixar Animation Studios   2011-06-11   \n",
       "1799  DreamWorks SKG|Universal Pictures|Scott Free P...   2000-05-01   \n",
       "\n",
       "      vote_average  release_year     profit  \\\n",
       "1209           5.8          2013  -24037525   \n",
       "61             6.1          2015  105795793   \n",
       "662            6.2          2008   45569869   \n",
       "741            5.8          2011  359852396   \n",
       "1799           7.7          2000  354640427   \n",
       "\n",
       "                                genres_array               director_array  \\\n",
       "1209            [Action, Adventure, Fantasy]                [Carl Rinsch]   \n",
       "61                                  [Comedy]                [Judd Apatow]   \n",
       "662         [Action, Crime, Drama, Thriller]                 [David Ayer]   \n",
       "741   [Animation, Family, Adventure, Comedy]  [John Lasseter, Brad Lewis]   \n",
       "1799              [Action, Drama, Adventure]               [Ridley Scott]   \n",
       "\n",
       "                                             cast_array  \n",
       "1209  [Keanu Reeves, Hiroyuki Sanada, Kou Shibasaki,...  \n",
       "61    [Amy Schumer, Bill Hader, Brie Larson, Colin Q...  \n",
       "662   [Keanu Reeves, Forest Whitaker, Chris Evans, H...  \n",
       "741   [Larry the Cable Guy, Owen Wilson, Michael Cai...  \n",
       "1799  [Russell Crowe, Joaquin Phoenix, Connie Nielse...  "
      ]
     },
     "execution_count": 210,
     "metadata": {},
     "output_type": "execute_result"
    }
   ],
   "source": [
    "answers = {}  # создадим словарь для ответов\n",
    "\n",
    "# тут другие ваши предобработки колонок например:\n",
    "\n",
    "# the time given in the dataset is in string format.\n",
    "# So we need to change this in datetime format\n",
    "# ...\n",
    "\n",
    "#import datetime\n",
    "#data['release_date'] = data['release_date'].apply(lambda x: datetime.datetime.strptime(x, '%m/%d/%Y'))\n",
    "data['release_date'] = pd.to_datetime(data['release_date'])\n",
    "data['profit'] = data['revenue'] - data['budget']\n",
    "data['genres_array'] = data['genres'].str.split('|')\n",
    "data['director_array'] = data['director'].str.split('|')\n",
    "data['cast_array'] = data['cast'].str.split('|')\n",
    "data.sample(5)"
   ]
  },
  {
   "cell_type": "markdown",
   "metadata": {
    "colab_type": "text",
    "id": "YxZaH-nPVp-L"
   },
   "source": [
    "# 1. У какого фильма из списка самый большой бюджет?"
   ]
  },
  {
   "cell_type": "markdown",
   "metadata": {
    "colab_type": "text",
    "id": "Nd-G5gX6Vp-M"
   },
   "source": [
    "Использовать варианты ответов в коде решения запрещено.    \n",
    "Вы думаете и в жизни у вас будут варианты ответов?)"
   ]
  },
  {
   "cell_type": "code",
   "execution_count": 88,
   "metadata": {
    "colab": {},
    "colab_type": "code",
    "id": "uVnXAY5RVp-O"
   },
   "outputs": [],
   "source": [
    "# в словарь вставляем номер вопроса и ваш ответ на него\n",
    "# Пример:\n",
    "answers['1'] = '2. Spider-Man 3 (tt0413300)'\n",
    "# запишите свой вариант ответа\n",
    "answers['1'] = '5. Pirates of the Caribbean: On Stranger Tides (tt1298650)'\n",
    "# если ответили верно, можете добавить комментарий со значком \"+\""
   ]
  },
  {
   "cell_type": "code",
   "execution_count": 61,
   "metadata": {
    "colab": {},
    "colab_type": "code",
    "id": "dZwb3m28Vp-S"
   },
   "outputs": [
    {
     "data": {
      "text/plain": [
       "'Pirates of the Caribbean: On Stranger Tides (tt1298650)'"
      ]
     },
     "execution_count": 61,
     "metadata": {},
     "output_type": "execute_result"
    }
   ],
   "source": [
    "# тут пишем ваш код для решения данного вопроса:\n",
    "line = data[data['budget'] == data['budget'].max()]\n",
    "f\"{line['original_title'].values[0]} ({line['imdb_id'].values[0]})\""
   ]
  },
  {
   "cell_type": "markdown",
   "metadata": {
    "colab_type": "text",
    "id": "K7L3nbRXVp-X"
   },
   "source": [
    "ВАРИАНТ 2"
   ]
  },
  {
   "cell_type": "code",
   "execution_count": 0,
   "metadata": {
    "colab": {},
    "colab_type": "code",
    "id": "OGaoQI7rVp-X"
   },
   "outputs": [],
   "source": [
    "# можно добавлять разные варианты решения"
   ]
  },
  {
   "cell_type": "markdown",
   "metadata": {
    "colab_type": "text",
    "id": "FNRbbI3vVp-c"
   },
   "source": [
    "# 2. Какой из фильмов самый длительный (в минутах)?"
   ]
  },
  {
   "cell_type": "code",
   "execution_count": 0,
   "metadata": {
    "colab": {},
    "colab_type": "code",
    "id": "vHAoEXNTVp-d"
   },
   "outputs": [],
   "source": [
    "# думаю логику работы с этим словарем вы уже поняли,\n",
    "# по этому не буду больше его дублировать\n",
    "answers['2'] = '2. Gods and Generals (tt0279111)'"
   ]
  },
  {
   "cell_type": "code",
   "execution_count": 62,
   "metadata": {
    "colab": {},
    "colab_type": "code",
    "id": "ot-VX2XrVp-g"
   },
   "outputs": [
    {
     "data": {
      "text/plain": [
       "'Gods and Generals (tt0279111)'"
      ]
     },
     "execution_count": 62,
     "metadata": {},
     "output_type": "execute_result"
    }
   ],
   "source": [
    "line = data[data['runtime'] == data['runtime'].max()]\n",
    "f\"{line['original_title'].values[0]} ({line['imdb_id'].values[0]})\""
   ]
  },
  {
   "cell_type": "markdown",
   "metadata": {
    "colab_type": "text",
    "id": "bapLlpW8Vp-k"
   },
   "source": [
    "# 3. Какой из фильмов самый короткий (в минутах)?\n",
    "\n",
    "\n",
    "\n"
   ]
  },
  {
   "cell_type": "code",
   "execution_count": 89,
   "metadata": {
    "colab": {},
    "colab_type": "code",
    "id": "YBxaSHuAVp-l"
   },
   "outputs": [],
   "source": [
    "answers['3'] = '3. Winnie the Pooh (tt1449283)'"
   ]
  },
  {
   "cell_type": "code",
   "execution_count": 90,
   "metadata": {},
   "outputs": [
    {
     "data": {
      "text/plain": [
       "'Winnie the Pooh (tt1449283)'"
      ]
     },
     "execution_count": 90,
     "metadata": {},
     "output_type": "execute_result"
    }
   ],
   "source": [
    "line = data[data['runtime'] == data['runtime'].min()]\n",
    "f\"{line['original_title'].values[0]} ({line['imdb_id'].values[0]})\""
   ]
  },
  {
   "cell_type": "markdown",
   "metadata": {
    "colab_type": "text",
    "id": "TfQbxbfNVp-p"
   },
   "source": [
    "# 4. Какова средняя длительность фильмов?\n"
   ]
  },
  {
   "cell_type": "code",
   "execution_count": 91,
   "metadata": {
    "colab": {},
    "colab_type": "code",
    "id": "5K6dKZYVVp-q"
   },
   "outputs": [],
   "source": [
    "answers['4'] = '2. 110'"
   ]
  },
  {
   "cell_type": "code",
   "execution_count": 92,
   "metadata": {},
   "outputs": [
    {
     "data": {
      "text/plain": [
       "110"
      ]
     },
     "execution_count": 92,
     "metadata": {},
     "output_type": "execute_result"
    }
   ],
   "source": [
    "int(round(data['runtime'].mean(), 0))"
   ]
  },
  {
   "cell_type": "markdown",
   "metadata": {
    "colab_type": "text",
    "id": "r5TvbnT_Vp-u"
   },
   "source": [
    "# 5. Каково медианное значение длительности фильмов? "
   ]
  },
  {
   "cell_type": "code",
   "execution_count": 93,
   "metadata": {
    "colab": {},
    "colab_type": "code",
    "id": "iBROplKnVp-v"
   },
   "outputs": [],
   "source": [
    "answers['5'] = '1. 107'"
   ]
  },
  {
   "cell_type": "code",
   "execution_count": 94,
   "metadata": {},
   "outputs": [
    {
     "data": {
      "text/plain": [
       "107"
      ]
     },
     "execution_count": 94,
     "metadata": {},
     "output_type": "execute_result"
    }
   ],
   "source": [
    "int(round(data['runtime'].agg(['median']), 0))"
   ]
  },
  {
   "cell_type": "markdown",
   "metadata": {
    "colab_type": "text",
    "id": "39P-deDSVp-y"
   },
   "source": [
    "# 6. Какой самый прибыльный фильм?\n",
    "#### Внимание! Здесь и далее под «прибылью» или «убытками» понимается разность между сборами и бюджетом фильма. (прибыль = сборы - бюджет) в нашем датасете это будет (profit = revenue - budget) "
   ]
  },
  {
   "cell_type": "code",
   "execution_count": 96,
   "metadata": {
    "colab": {},
    "colab_type": "code",
    "id": "UYZh4T9WVp-y"
   },
   "outputs": [],
   "source": [
    "# лучше код получения столбца profit вынести в Предобработку что в начале\n",
    "answers['6'] = '5. Avatar (tt0499549)'"
   ]
  },
  {
   "cell_type": "code",
   "execution_count": 95,
   "metadata": {},
   "outputs": [
    {
     "data": {
      "text/plain": [
       "'Avatar (tt0499549)'"
      ]
     },
     "execution_count": 95,
     "metadata": {},
     "output_type": "execute_result"
    }
   ],
   "source": [
    "line = data[data['profit'] == data['profit'].max()]\n",
    "f\"{line['original_title'].values[0]} ({line['imdb_id'].values[0]})\""
   ]
  },
  {
   "cell_type": "markdown",
   "metadata": {
    "colab_type": "text",
    "id": "M99JmIX4Vp-2"
   },
   "source": [
    "# 7. Какой фильм самый убыточный? "
   ]
  },
  {
   "cell_type": "code",
   "execution_count": 97,
   "metadata": {
    "colab": {},
    "colab_type": "code",
    "id": "w-D2m4XPVp-3"
   },
   "outputs": [],
   "source": [
    "answers['7'] = '5. The Lone Ranger (tt1210819)'"
   ]
  },
  {
   "cell_type": "code",
   "execution_count": 98,
   "metadata": {},
   "outputs": [
    {
     "data": {
      "text/plain": [
       "'The Lone Ranger (tt1210819)'"
      ]
     },
     "execution_count": 98,
     "metadata": {},
     "output_type": "execute_result"
    }
   ],
   "source": [
    "line = data[data['profit'] == data['profit'].min()]\n",
    "f\"{line['original_title'].values[0]} ({line['imdb_id'].values[0]})\""
   ]
  },
  {
   "cell_type": "markdown",
   "metadata": {
    "colab_type": "text",
    "id": "wEOM5ERVVp-6"
   },
   "source": [
    "# 8. У скольких фильмов из датасета объем сборов оказался выше бюджета?"
   ]
  },
  {
   "cell_type": "code",
   "execution_count": 99,
   "metadata": {
    "colab": {},
    "colab_type": "code",
    "id": "y00_7HD6Vp-7"
   },
   "outputs": [],
   "source": [
    "answers['8'] = '1. 1478'"
   ]
  },
  {
   "cell_type": "code",
   "execution_count": 100,
   "metadata": {},
   "outputs": [
    {
     "data": {
      "text/plain": [
       "1478"
      ]
     },
     "execution_count": 100,
     "metadata": {},
     "output_type": "execute_result"
    }
   ],
   "source": [
    "len(data[data['profit'] > 0])"
   ]
  },
  {
   "cell_type": "markdown",
   "metadata": {
    "colab_type": "text",
    "id": "xhpspA9KVp_A"
   },
   "source": [
    "# 9. Какой фильм оказался самым кассовым в 2008 году?"
   ]
  },
  {
   "cell_type": "code",
   "execution_count": 101,
   "metadata": {
    "colab": {},
    "colab_type": "code",
    "id": "MoUyQr9RVp_B"
   },
   "outputs": [],
   "source": [
    "answers['9'] = '4. The Dark Knight (tt0468569)'"
   ]
  },
  {
   "cell_type": "code",
   "execution_count": 102,
   "metadata": {},
   "outputs": [
    {
     "data": {
      "text/plain": [
       "'The Dark Knight (tt0468569)'"
      ]
     },
     "execution_count": 102,
     "metadata": {},
     "output_type": "execute_result"
    }
   ],
   "source": [
    "line_id = data.query('release_year == 2008')['revenue'].idxmax()\n",
    "f\"{data.iloc[line_id]['original_title']} ({data.iloc[line_id]['imdb_id']})\""
   ]
  },
  {
   "cell_type": "markdown",
   "metadata": {},
   "source": [
    "Вариант 2"
   ]
  },
  {
   "cell_type": "code",
   "execution_count": 83,
   "metadata": {},
   "outputs": [
    {
     "data": {
      "text/plain": [
       "'The Dark Knight (tt0468569)'"
      ]
     },
     "execution_count": 83,
     "metadata": {},
     "output_type": "execute_result"
    }
   ],
   "source": [
    "line = data[data['release_year'] == 2008].sort_values(\n",
    "    'revenue', ascending=False)\n",
    "f\"{line['original_title'].values[0]} ({line['imdb_id'].values[0]})\""
   ]
  },
  {
   "cell_type": "markdown",
   "metadata": {},
   "source": [
    "Вариант 3"
   ]
  },
  {
   "cell_type": "code",
   "execution_count": 84,
   "metadata": {},
   "outputs": [
    {
     "data": {
      "text/plain": [
       "'The Dark Knight (tt0468569)'"
      ]
     },
     "execution_count": 84,
     "metadata": {},
     "output_type": "execute_result"
    }
   ],
   "source": [
    "line = data.query('release_year == 2008').query('revenue == revenue.max()')\n",
    "f\"{line['original_title'].values[0]} ({line['imdb_id'].values[0]})\""
   ]
  },
  {
   "cell_type": "markdown",
   "metadata": {
    "colab_type": "text",
    "id": "Zi4hDKidVp_F"
   },
   "source": [
    "# 10. Самый убыточный фильм за период с 2012 по 2014 г. (включительно)?\n"
   ]
  },
  {
   "cell_type": "code",
   "execution_count": 103,
   "metadata": {
    "colab": {},
    "colab_type": "code",
    "id": "XqyRmufJVp_F"
   },
   "outputs": [],
   "source": [
    "answers['10'] = '5. The Lone Ranger (tt1210819)'"
   ]
  },
  {
   "cell_type": "code",
   "execution_count": 104,
   "metadata": {},
   "outputs": [
    {
     "data": {
      "text/plain": [
       "'The Lone Ranger (tt1210819)'"
      ]
     },
     "execution_count": 104,
     "metadata": {},
     "output_type": "execute_result"
    }
   ],
   "source": [
    "line_id = data.query('release_year >= 2012 and release_year <= 2014')[\n",
    "    'profit'].idxmin()\n",
    "f\"{data.iloc[line_id]['original_title']} ({data.iloc[line_id]['imdb_id']})\""
   ]
  },
  {
   "cell_type": "markdown",
   "metadata": {
    "colab_type": "text",
    "id": "EA7Sa9dkVp_I"
   },
   "source": [
    "# 11. Какого жанра фильмов больше всего?"
   ]
  },
  {
   "cell_type": "code",
   "execution_count": 150,
   "metadata": {
    "colab": {},
    "colab_type": "code",
    "id": "zsJAwJ8QVp_J"
   },
   "outputs": [],
   "source": [
    "# эту задачу тоже можно решать разными подходами, попробуй реализовать разные варианты\n",
    "# если будешь добавлять функцию - выноси ее в предобработку что в начале\n",
    "\n",
    "answers['11'] = '3. Drama'"
   ]
  },
  {
   "cell_type": "code",
   "execution_count": 139,
   "metadata": {},
   "outputs": [
    {
     "data": {
      "text/plain": [
       "Drama    782\n",
       "Name: genres_array, dtype: int64"
      ]
     },
     "execution_count": 139,
     "metadata": {},
     "output_type": "execute_result"
    }
   ],
   "source": [
    "data['genres_array'].explode().value_counts().head(1)"
   ]
  },
  {
   "cell_type": "markdown",
   "metadata": {
    "colab_type": "text",
    "id": "Ax6g2C8SVp_M"
   },
   "source": [
    "Вариант 2"
   ]
  },
  {
   "cell_type": "code",
   "execution_count": 147,
   "metadata": {
    "colab": {},
    "colab_type": "code",
    "id": "otO3SbrSVp_N"
   },
   "outputs": [
    {
     "data": {
      "text/plain": [
       "Drama    782\n",
       "dtype: int64"
      ]
     },
     "execution_count": 147,
     "metadata": {},
     "output_type": "execute_result"
    }
   ],
   "source": [
    "data['genres'].str.split('|', expand=True).stack().value_counts().head(1)"
   ]
  },
  {
   "cell_type": "markdown",
   "metadata": {},
   "source": [
    "Вариант 3"
   ]
  },
  {
   "cell_type": "code",
   "execution_count": 146,
   "metadata": {},
   "outputs": [
    {
     "data": {
      "text/plain": [
       "Drama    782\n",
       "dtype: int64"
      ]
     },
     "execution_count": 146,
     "metadata": {},
     "output_type": "execute_result"
    }
   ],
   "source": [
    "pd.Series(itertools.chain.from_iterable(\n",
    "    data['genres_array'])).value_counts().head(1)"
   ]
  },
  {
   "cell_type": "markdown",
   "metadata": {
    "colab_type": "text",
    "id": "T9_bPWpkVp_Q"
   },
   "source": [
    "# 12. Фильмы какого жанра чаще всего становятся прибыльными? "
   ]
  },
  {
   "cell_type": "code",
   "execution_count": 149,
   "metadata": {},
   "outputs": [],
   "source": [
    "answers['12'] = '1. Drama'"
   ]
  },
  {
   "cell_type": "code",
   "execution_count": 148,
   "metadata": {
    "colab": {},
    "colab_type": "code",
    "id": "Tmt8MaK1Vp_R"
   },
   "outputs": [
    {
     "data": {
      "text/plain": [
       "Drama    560\n",
       "Name: genres_array, dtype: int64"
      ]
     },
     "execution_count": 148,
     "metadata": {},
     "output_type": "execute_result"
    }
   ],
   "source": [
    "data.query('profit > 0')['genres_array'].explode().value_counts().head(1)"
   ]
  },
  {
   "cell_type": "markdown",
   "metadata": {
    "colab_type": "text",
    "id": "0F23bgsDVp_U"
   },
   "source": [
    "# 13. У какого режиссера самые большие суммарные кассовые сбооры?"
   ]
  },
  {
   "cell_type": "code",
   "execution_count": 169,
   "metadata": {
    "colab": {},
    "colab_type": "code",
    "id": "K6Z3J8ygVp_X"
   },
   "outputs": [],
   "source": [
    "answers['13'] = '5. Peter Jackson'"
   ]
  },
  {
   "cell_type": "code",
   "execution_count": 201,
   "metadata": {},
   "outputs": [
    {
     "data": {
      "text/html": [
       "<div>\n",
       "<style scoped>\n",
       "    .dataframe tbody tr th:only-of-type {\n",
       "        vertical-align: middle;\n",
       "    }\n",
       "\n",
       "    .dataframe tbody tr th {\n",
       "        vertical-align: top;\n",
       "    }\n",
       "\n",
       "    .dataframe thead th {\n",
       "        text-align: right;\n",
       "    }\n",
       "</style>\n",
       "<table border=\"1\" class=\"dataframe\">\n",
       "  <thead>\n",
       "    <tr style=\"text-align: right;\">\n",
       "      <th></th>\n",
       "      <th>revenue</th>\n",
       "    </tr>\n",
       "    <tr>\n",
       "      <th>director_array</th>\n",
       "      <th></th>\n",
       "    </tr>\n",
       "  </thead>\n",
       "  <tbody>\n",
       "    <tr>\n",
       "      <th>Peter Jackson</th>\n",
       "      <td>6490593685</td>\n",
       "    </tr>\n",
       "  </tbody>\n",
       "</table>\n",
       "</div>"
      ],
      "text/plain": [
       "                   revenue\n",
       "director_array            \n",
       "Peter Jackson   6490593685"
      ]
     },
     "execution_count": 201,
     "metadata": {},
     "output_type": "execute_result"
    }
   ],
   "source": [
    "data[['director_array', 'revenue']].explode('director_array').groupby('director_array').sum()\\\n",
    "    .sort_values('revenue', ascending=False).head(1)"
   ]
  },
  {
   "cell_type": "markdown",
   "metadata": {
    "colab_type": "text",
    "id": "PsYC9FgRVp_a"
   },
   "source": [
    "# 14. Какой режисер снял больше всего фильмов в стиле Action?"
   ]
  },
  {
   "cell_type": "code",
   "execution_count": 194,
   "metadata": {},
   "outputs": [],
   "source": [
    "answers['14'] = '3. Robert Rodriguez'"
   ]
  },
  {
   "cell_type": "markdown",
   "metadata": {},
   "source": [
    "Вариант 1"
   ]
  },
  {
   "cell_type": "code",
   "execution_count": 208,
   "metadata": {
    "colab": {},
    "colab_type": "code",
    "id": "wd2M-wHeVp_b"
   },
   "outputs": [
    {
     "data": {
      "text/plain": [
       "Robert Rodriguez    9\n",
       "Name: director_array, dtype: int64"
      ]
     },
     "execution_count": 208,
     "metadata": {},
     "output_type": "execute_result"
    }
   ],
   "source": [
    "data[['director_array', 'genres_array']].explode('director_array').explode('genres_array')\\\n",
    "    .query('genres_array == \"Action\"')['director_array'].value_counts().head(1)"
   ]
  },
  {
   "cell_type": "markdown",
   "metadata": {},
   "source": [
    "Вариант 2"
   ]
  },
  {
   "cell_type": "code",
   "execution_count": 209,
   "metadata": {},
   "outputs": [
    {
     "data": {
      "text/plain": [
       "Robert Rodriguez    9\n",
       "Name: director_array, dtype: int64"
      ]
     },
     "execution_count": 209,
     "metadata": {},
     "output_type": "execute_result"
    }
   ],
   "source": [
    "data[data['genres'].str.contains(\n",
    "    'Action')]['director_array'].explode().value_counts().head(1)"
   ]
  },
  {
   "cell_type": "markdown",
   "metadata": {},
   "source": [
    "Вариант 3"
   ]
  },
  {
   "cell_type": "code",
   "execution_count": 216,
   "metadata": {},
   "outputs": [
    {
     "data": {
      "text/plain": [
       "[('Robert Rodriguez', 9)]"
      ]
     },
     "execution_count": 216,
     "metadata": {},
     "output_type": "execute_result"
    }
   ],
   "source": [
    "directors = Counter(data[data['genres'].str.contains(\n",
    "    'Action')]['director_array'].explode())\n",
    "directors.most_common(1)"
   ]
  },
  {
   "cell_type": "markdown",
   "metadata": {
    "colab_type": "text",
    "id": "PQ0KciD7Vp_f"
   },
   "source": [
    "# 15. Фильмы с каким актером принесли самые высокие кассовые сборы в 2012 году? "
   ]
  },
  {
   "cell_type": "code",
   "execution_count": 213,
   "metadata": {
    "colab": {},
    "colab_type": "code",
    "id": "aga62oeKVp_g"
   },
   "outputs": [],
   "source": [
    "answers['15'] = '3. Chris Hemsworth'"
   ]
  },
  {
   "cell_type": "code",
   "execution_count": 214,
   "metadata": {},
   "outputs": [
    {
     "data": {
      "text/html": [
       "<div>\n",
       "<style scoped>\n",
       "    .dataframe tbody tr th:only-of-type {\n",
       "        vertical-align: middle;\n",
       "    }\n",
       "\n",
       "    .dataframe tbody tr th {\n",
       "        vertical-align: top;\n",
       "    }\n",
       "\n",
       "    .dataframe thead th {\n",
       "        text-align: right;\n",
       "    }\n",
       "</style>\n",
       "<table border=\"1\" class=\"dataframe\">\n",
       "  <thead>\n",
       "    <tr style=\"text-align: right;\">\n",
       "      <th></th>\n",
       "      <th>revenue</th>\n",
       "    </tr>\n",
       "    <tr>\n",
       "      <th>cast_array</th>\n",
       "      <th></th>\n",
       "    </tr>\n",
       "  </thead>\n",
       "  <tbody>\n",
       "    <tr>\n",
       "      <th>Chris Hemsworth</th>\n",
       "      <td>2027450773</td>\n",
       "    </tr>\n",
       "  </tbody>\n",
       "</table>\n",
       "</div>"
      ],
      "text/plain": [
       "                    revenue\n",
       "cast_array                 \n",
       "Chris Hemsworth  2027450773"
      ]
     },
     "execution_count": 214,
     "metadata": {},
     "output_type": "execute_result"
    }
   ],
   "source": [
    "data.query('release_year == 2012')[['cast_array', 'revenue']].explode('cast_array').groupby('cast_array').sum()\\\n",
    "    .sort_values('revenue', ascending=False).head(1)"
   ]
  },
  {
   "cell_type": "markdown",
   "metadata": {
    "colab_type": "text",
    "id": "mWHyyL7QVp_j"
   },
   "source": [
    "# 16. Какой актер снялся в большем количестве высокобюджетных фильмов?"
   ]
  },
  {
   "cell_type": "code",
   "execution_count": 227,
   "metadata": {
    "colab": {},
    "colab_type": "code",
    "id": "qQtmHKTFVp_k"
   },
   "outputs": [],
   "source": [
    "answers['16'] = '3. Matt Damon'"
   ]
  },
  {
   "cell_type": "code",
   "execution_count": 229,
   "metadata": {},
   "outputs": [
    {
     "data": {
      "text/plain": [
       "Matt Damon    18\n",
       "Name: cast_array, dtype: int64"
      ]
     },
     "execution_count": 229,
     "metadata": {},
     "output_type": "execute_result"
    }
   ],
   "source": [
    "mean_budget = data['budget'].mean()\n",
    "data[data['budget'] > mean_budget]['cast_array'].explode().value_counts().head(1)"
   ]
  },
  {
   "cell_type": "markdown",
   "metadata": {
    "colab_type": "text",
    "id": "NIh6AaW5Vp_n"
   },
   "source": [
    "# 17. В фильмах какого жанра больше всего снимался Nicolas Cage? "
   ]
  },
  {
   "cell_type": "code",
   "execution_count": 230,
   "metadata": {
    "colab": {},
    "colab_type": "code",
    "id": "H74SJDIBVp_n"
   },
   "outputs": [],
   "source": [
    "answers['17'] = '2. Action'"
   ]
  },
  {
   "cell_type": "markdown",
   "metadata": {},
   "source": [
    "Вариант 1"
   ]
  },
  {
   "cell_type": "code",
   "execution_count": 231,
   "metadata": {},
   "outputs": [
    {
     "data": {
      "text/plain": [
       "Action    17\n",
       "Name: genres_array, dtype: int64"
      ]
     },
     "execution_count": 231,
     "metadata": {},
     "output_type": "execute_result"
    }
   ],
   "source": [
    "data[data['cast'].str.contains(\n",
    "    'Nicolas Cage')]['genres_array'].explode().value_counts().head(1)"
   ]
  },
  {
   "cell_type": "markdown",
   "metadata": {},
   "source": [
    "Вариант 2 (с защитой от актеров с похожим именем, например Nicolas Cagesss)"
   ]
  },
  {
   "cell_type": "code",
   "execution_count": 240,
   "metadata": {},
   "outputs": [
    {
     "data": {
      "text/plain": [
       "Action    17\n",
       "Name: genres_array, dtype: int64"
      ]
     },
     "execution_count": 240,
     "metadata": {},
     "output_type": "execute_result"
    }
   ],
   "source": [
    "data[['cast_array', 'genres_array']].explode('cast_array').query(\n",
    "    'cast_array == \"Nicolas Cage\"')['genres_array'].explode().value_counts().head(1)"
   ]
  },
  {
   "cell_type": "markdown",
   "metadata": {
    "colab_type": "text",
    "id": "RqOmPRfWVp_q"
   },
   "source": [
    "# 18. Самый убыточный фильм от Paramount Pictures"
   ]
  },
  {
   "cell_type": "code",
   "execution_count": null,
   "metadata": {
    "colab": {},
    "colab_type": "code",
    "id": "9E_B0Y96Vp_r"
   },
   "outputs": [],
   "source": []
  },
  {
   "cell_type": "markdown",
   "metadata": {
    "colab_type": "text",
    "id": "vS8Ur6ddVp_u"
   },
   "source": [
    "# 19. Какой год стал самым успешным по суммарным кассовым сборам?"
   ]
  },
  {
   "cell_type": "code",
   "execution_count": null,
   "metadata": {
    "colab": {},
    "colab_type": "code",
    "id": "Dnbt4GdIVp_v"
   },
   "outputs": [],
   "source": []
  },
  {
   "cell_type": "markdown",
   "metadata": {
    "colab_type": "text",
    "id": "JAzJh4QAVp_z"
   },
   "source": [
    "# 20. Какой самый прибыльный год для студии Warner Bros?"
   ]
  },
  {
   "cell_type": "code",
   "execution_count": 0,
   "metadata": {
    "colab": {},
    "colab_type": "code",
    "id": "wgVu02DEVp_0"
   },
   "outputs": [],
   "source": []
  },
  {
   "cell_type": "markdown",
   "metadata": {
    "colab_type": "text",
    "id": "8Im1S2HRVp_4"
   },
   "source": [
    "# 21. В каком месяце за все годы суммарно вышло больше всего фильмов?"
   ]
  },
  {
   "cell_type": "code",
   "execution_count": 0,
   "metadata": {
    "colab": {},
    "colab_type": "code",
    "id": "lev6TH7gVp_4"
   },
   "outputs": [],
   "source": []
  },
  {
   "cell_type": "markdown",
   "metadata": {
    "colab_type": "text",
    "id": "uAJsZ_NeVp_7"
   },
   "source": [
    "# 22. Сколько суммарно вышло фильмов летом? (за июнь, июль, август)"
   ]
  },
  {
   "cell_type": "code",
   "execution_count": 0,
   "metadata": {
    "colab": {},
    "colab_type": "code",
    "id": "Aa-hEREoVp_8"
   },
   "outputs": [],
   "source": []
  },
  {
   "cell_type": "markdown",
   "metadata": {
    "colab_type": "text",
    "id": "G94ppOY1VqAA"
   },
   "source": [
    "# 23. Для какого режиссера зима – самое продуктивное время года? "
   ]
  },
  {
   "cell_type": "code",
   "execution_count": 0,
   "metadata": {
    "colab": {},
    "colab_type": "code",
    "id": "RhNTsamuVqAB"
   },
   "outputs": [],
   "source": []
  },
  {
   "cell_type": "markdown",
   "metadata": {
    "colab_type": "text",
    "id": "RBo0JVjVVqAF"
   },
   "source": [
    "# 24. Какая студия дает самые длинные названия своим фильмам по количеству символов?"
   ]
  },
  {
   "cell_type": "code",
   "execution_count": 0,
   "metadata": {
    "colab": {},
    "colab_type": "code",
    "id": "QRGS8L0iVqAG"
   },
   "outputs": [],
   "source": []
  },
  {
   "cell_type": "markdown",
   "metadata": {
    "colab_type": "text",
    "id": "9G0hbvR7VqAK"
   },
   "source": [
    "# 25. Описание фильмов какой студии в среднем самые длинные по количеству слов?"
   ]
  },
  {
   "cell_type": "code",
   "execution_count": 0,
   "metadata": {
    "colab": {},
    "colab_type": "code",
    "id": "Ge2GsLNxVqAK"
   },
   "outputs": [],
   "source": []
  },
  {
   "cell_type": "markdown",
   "metadata": {
    "colab_type": "text",
    "id": "FJ1AFt90VqAP"
   },
   "source": [
    "# 26. Какие фильмы входят в 1 процент лучших по рейтингу? \n",
    "по vote_average"
   ]
  },
  {
   "cell_type": "code",
   "execution_count": 0,
   "metadata": {
    "colab": {},
    "colab_type": "code",
    "id": "8qmJVq4CVqAQ"
   },
   "outputs": [],
   "source": []
  },
  {
   "cell_type": "markdown",
   "metadata": {
    "colab_type": "text",
    "id": "MdXsUXbCVqAV"
   },
   "source": [
    "# 27. Какие актеры чаще всего снимаются в одном фильме вместе?\n"
   ]
  },
  {
   "cell_type": "markdown",
   "metadata": {
    "colab_type": "text",
    "id": "4ymnxEVoVqAW"
   },
   "source": [
    "ВАРИАНТ 2"
   ]
  },
  {
   "cell_type": "markdown",
   "metadata": {
    "colab_type": "text",
    "id": "U0nONFnGVqAX"
   },
   "source": [
    "# Submission"
   ]
  },
  {
   "cell_type": "code",
   "execution_count": 0,
   "metadata": {
    "colab": {},
    "colab_type": "code",
    "id": "IfcaRO9-VqAX",
    "outputId": "0f132912-32bb-4196-c98c-abfbc4ad5a5f"
   },
   "outputs": [
    {
     "data": {
      "text/plain": [
       "{'1': '...', '2': '...'}"
      ]
     },
     "execution_count": 8,
     "metadata": {
      "tags": []
     },
     "output_type": "execute_result"
    }
   ],
   "source": [
    "# в конце можно посмотреть свои ответы к каждому вопросу\n",
    "answers"
   ]
  },
  {
   "cell_type": "code",
   "execution_count": 0,
   "metadata": {
    "colab": {},
    "colab_type": "code",
    "id": "SiRmHPl8VqAd"
   },
   "outputs": [],
   "source": [
    "# и убедиться что ни чего не пропустил)\n",
    "len(answers)"
   ]
  },
  {
   "cell_type": "code",
   "execution_count": 0,
   "metadata": {
    "colab": {},
    "colab_type": "code",
    "id": "uCfuTkRbVqAg"
   },
   "outputs": [],
   "source": []
  },
  {
   "cell_type": "code",
   "execution_count": 0,
   "metadata": {
    "colab": {},
    "colab_type": "code",
    "id": "Vwx3NrkSVqAl"
   },
   "outputs": [],
   "source": []
  }
 ],
 "metadata": {
  "colab": {
   "name": "Copy of [SF-DST] Movies IMBD v4.1 TEMPLATE.ipynb",
   "provenance": []
  },
  "kernelspec": {
   "display_name": "Python 3",
   "language": "python",
   "name": "python3"
  },
  "language_info": {
   "codemirror_mode": {
    "name": "ipython",
    "version": 3
   },
   "file_extension": ".py",
   "mimetype": "text/x-python",
   "name": "python",
   "nbconvert_exporter": "python",
   "pygments_lexer": "ipython3",
   "version": "3.7.6"
  }
 },
 "nbformat": 4,
 "nbformat_minor": 1
}
